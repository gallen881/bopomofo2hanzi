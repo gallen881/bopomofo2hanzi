{
  "cells": [
    {
      "cell_type": "code",
      "execution_count": null,
      "metadata": {
        "colab": {
          "base_uri": "https://localhost:8080/"
        },
        "id": "Co41Tua8zJWc",
        "outputId": "bcaccc09-e3a8-432e-d40f-111d5eac0aef"
      },
      "outputs": [
        {
          "name": "stdout",
          "output_type": "stream",
          "text": [
            "Mounted at /content/drive\n"
          ]
        }
      ],
      "source": [
        "from google.colab import drive\n",
        "drive.mount('/content/drive', force_remount=True)\n",
        "# import os\n",
        "# os.chdir('/content/drive/My Drive/translate')"
      ]
    },
    {
      "cell_type": "code",
      "execution_count": null,
      "metadata": {
        "id": "0_o-1BAP5tDf"
      },
      "outputs": [],
      "source": [
        "drive.flush_and_unmount()"
      ]
    },
    {
      "cell_type": "code",
      "execution_count": null,
      "metadata": {
        "colab": {
          "base_uri": "https://localhost:8080/"
        },
        "id": "rSkXAFHH6XD-",
        "outputId": "2dfd6011-3c52-444a-9b95-fbb88f1a383f"
      },
      "outputs": [
        {
          "name": "stdout",
          "output_type": "stream",
          "text": [
            "Collecting sacrebleu\n",
            "  Downloading sacrebleu-2.3.1-py3-none-any.whl (118 kB)\n",
            "\u001b[?25l     \u001b[90m━━━━━━━━━━━━━━━━━━━━━━━━━━━━━━━━━━━━━━━━\u001b[0m \u001b[32m0.0/118.9 kB\u001b[0m \u001b[31m?\u001b[0m eta \u001b[36m-:--:--\u001b[0m\r\u001b[2K     \u001b[91m━━━━━━━━━━━━━━━━━━━━\u001b[0m\u001b[91m╸\u001b[0m\u001b[90m━━━━━━━━━━━━━━━━━━━\u001b[0m \u001b[32m61.4/118.9 kB\u001b[0m \u001b[31m1.6 MB/s\u001b[0m eta \u001b[36m0:00:01\u001b[0m\r\u001b[2K     \u001b[90m━━━━━━━━━━━━━━━━━━━━━━━━━━━━━━━━━━━━━━━\u001b[0m \u001b[32m118.9/118.9 kB\u001b[0m \u001b[31m2.2 MB/s\u001b[0m eta \u001b[36m0:00:00\u001b[0m\n",
            "\u001b[?25hCollecting portalocker (from sacrebleu)\n",
            "  Downloading portalocker-2.7.0-py2.py3-none-any.whl (15 kB)\n",
            "Requirement already satisfied: regex in /usr/local/lib/python3.10/dist-packages (from sacrebleu) (2023.6.3)\n",
            "Requirement already satisfied: tabulate>=0.8.9 in /usr/local/lib/python3.10/dist-packages (from sacrebleu) (0.9.0)\n",
            "Requirement already satisfied: numpy>=1.17 in /usr/local/lib/python3.10/dist-packages (from sacrebleu) (1.23.5)\n",
            "Collecting colorama (from sacrebleu)\n",
            "  Downloading colorama-0.4.6-py2.py3-none-any.whl (25 kB)\n",
            "Requirement already satisfied: lxml in /usr/local/lib/python3.10/dist-packages (from sacrebleu) (4.9.3)\n",
            "Installing collected packages: portalocker, colorama, sacrebleu\n",
            "Successfully installed colorama-0.4.6 portalocker-2.7.0 sacrebleu-2.3.1\n"
          ]
        }
      ],
      "source": [
        "!pip install sacrebleu"
      ]
    },
    {
      "cell_type": "code",
      "execution_count": null,
      "metadata": {
        "id": "nM37xCYKu_aL"
      },
      "outputs": [],
      "source": [
        "import ast\n",
        "import requests\n",
        "from sacrebleu import BLEU"
      ]
    },
    {
      "cell_type": "code",
      "execution_count": null,
      "metadata": {
        "id": "yG2RIYzsto55"
      },
      "outputs": [],
      "source": [
        "def engTyping2zh(text) -> str:\n",
        "    text = text.replace(\" \", \"=\").replace(\",\", \"%252C\")\n",
        "    r = requests.get(f'https://inputtools.google.com/request?text={text}&itc=zh-hant-t-i0-und&num=13&cp=0&cs=1&ie=utf-8&oe=utf-8&app=demopage')\n",
        "    return ast.literal_eval(r.text)[1][0][1][0]"
      ]
    },
    {
      "cell_type": "code",
      "execution_count": null,
      "metadata": {
        "id": "a2VVpXjJ578l"
      },
      "outputs": [],
      "source": [
        "split_char = '⫯'\n",
        "datasets_name = 'PTT_2023_08_06'"
      ]
    },
    {
      "cell_type": "code",
      "execution_count": null,
      "metadata": {
        "id": "AzqyKZPEzFLX"
      },
      "outputs": [],
      "source": [
        "engTyping_inserted_lines = open(f'/content/drive/My Drive/translate/datasets/{datasets_name}_engTyping_inserted_lines.txt', 'r', encoding='utf-8').readlines()\n",
        "lines_len = len(engTyping_inserted_lines)\n",
        "engTyping_inserted_lines = engTyping_inserted_lines[int(lines_len * 0.85):]\n",
        "engTyping_lines = [line.replace('\\n', '').replace(split_char, '') for line in engTyping_inserted_lines]\n",
        "zh_lines = open(f'/content/drive/My Drive/translate/datasets/{datasets_name}_zh_lines.txt', 'r', encoding='utf-8').readlines()[int(lines_len * 0.85):]\n",
        "zh_lines = [line.replace('\\n', '').replace(split_char, ' ')[8:-6] for line in zh_lines]\n",
        "\n",
        "assert len(zh_lines) == len(engTyping_lines)"
      ]
    },
    {
      "cell_type": "code",
      "execution_count": null,
      "metadata": {
        "colab": {
          "background_save": true,
          "base_uri": "https://localhost:8080/"
        },
        "id": "aAn_F9v93rsc",
        "outputId": "9c9e53ba-9a40-4272-83b6-19e1bd99c646"
      },
      "outputs": [
        {
          "name": "stdout",
          "output_type": "stream",
          "text": [
            "4173/231813error:  1\n",
            "4191/231813error:  2\n",
            "5137/231813error:  3\n",
            "5453/231813error:  4\n",
            "8149/231813error:  5\n",
            "8690/231813error:  6\n",
            "10591/231813error:  7\n",
            "11354/231813error:  8\n",
            "11612/231813error:  9\n",
            "17370/231813error:  10\n",
            "20642/231813error:  11\n",
            "24484/231813error:  12\n",
            "25103/231813error:  13\n",
            "27188/231813error:  14\n",
            "28754/231813error:  15\n",
            "29034/231813error:  16\n",
            "31175/231813error:  17\n",
            "31216/231813error:  18\n",
            "31609/231813error:  19\n",
            "38799/231813error:  20\n",
            "39256/231813error:  21\n",
            "40162/231813error:  22\n",
            "40395/231813error:  23\n",
            "42867/231813error:  24\n",
            "45292/231813error:  25\n",
            "46445/231813error:  26\n",
            "50641/231813error:  27\n",
            "50862/231813error:  28\n",
            "54681/231813error:  29\n",
            "54699/231813error:  30\n",
            "57455/231813error:  31\n",
            "62012/231813error:  32\n",
            "62428/231813error:  33\n",
            "63992/231813error:  34\n",
            "68977/231813error:  35\n",
            "72558/231813error:  36\n",
            "74075/231813error:  37\n",
            "77005/231813error:  38\n",
            "83341/231813error:  39\n",
            "83389/231813error:  40\n",
            "83653/231813error:  41\n",
            "85630/231813error:  42\n",
            "87615/231813error:  43\n",
            "91659/231813error:  44\n",
            "93420/231813error:  45\n",
            "95126/231813error:  46\n",
            "96582/231813error:  47\n",
            "97606/231813error:  48\n",
            "98407/231813error:  49\n",
            "99151/231813error:  50\n",
            "101304/231813error:  51\n",
            "102950/231813error:  52\n",
            "103631/231813error:  53\n",
            "106664/231813error:  54\n",
            "107249/231813error:  55\n",
            "107349/231813error:  56\n",
            "107351/231813error:  57\n",
            "107395/231813error:  58\n",
            "107961/231813error:  59\n",
            "108787/231813error:  60\n",
            "109190/231813error:  61\n",
            "109261/231813error:  62\n",
            "111064/231813error:  63\n",
            "112201/231813error:  64\n",
            "113098/231813error:  65\n",
            "115443/231813error:  66\n",
            "117589/231813error:  67\n",
            "118320/231813error:  68\n",
            "119509/231813error:  69\n",
            "120287/231813error:  70\n",
            "125412/231813error:  71\n",
            "125468/231813error:  72\n",
            "125887/231813error:  73\n",
            "128367/231813error:  74\n",
            "131652/231813error:  75\n",
            "134050/231813error:  76\n",
            "136476/231813error:  77\n",
            "137630/231813error:  78\n",
            "139014/231813error:  79\n",
            "141325/231813error:  80\n",
            "141794/231813error:  81\n",
            "143268/231813error:  82\n",
            "147824/231813error:  83\n",
            "148102/231813error:  84\n",
            "151149/231813error:  85\n",
            "152262/231813error:  86\n",
            "152716/231813error:  87\n",
            "153856/231813error:  88\n",
            "156701/231813error:  89\n",
            "158457/231813error:  90\n",
            "159335/231813error:  91\n",
            "159627/231813error:  92\n",
            "162117/231813"
          ]
        }
      ],
      "source": [
        "pred_sentence = []\n",
        "count = 0\n",
        "error_count = 0\n",
        "lines_len = len(engTyping_lines)\n",
        "for line in engTyping_lines:\n",
        "    try:\n",
        "        pred_line = engTyping2zh(line)\n",
        "        pred_line = ' '.join(list(pred_line))\n",
        "        pred_sentence.append(engTyping2zh(line))\n",
        "    except:\n",
        "        pred_sentence.append('')\n",
        "        error_count += 1\n",
        "        print('error: ', error_count)\n",
        "    count += 1\n",
        "    print(f'\\r{count}/{lines_len}', end='')"
      ]
    },
    {
      "cell_type": "code",
      "execution_count": null,
      "metadata": {
        "id": "Qvc99mht7GHu"
      },
      "outputs": [],
      "source": [
        "import pickle\n",
        "with open('/content/drive/My Drive/translate/translator_google_new_lines.pkl', 'wb') as file:\n",
        "    pickle.dump(pred_sentence, file)"
      ]
    }
  ],
  "metadata": {
    "colab": {
      "provenance": []
    },
    "kernelspec": {
      "display_name": "Python 3",
      "name": "python3"
    },
    "language_info": {
      "name": "python"
    }
  },
  "nbformat": 4,
  "nbformat_minor": 0
}
